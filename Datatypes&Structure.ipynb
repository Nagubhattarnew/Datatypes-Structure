{
  "nbformat": 4,
  "nbformat_minor": 0,
  "metadata": {
    "colab": {
      "provenance": []
    },
    "kernelspec": {
      "name": "python3",
      "display_name": "Python 3"
    },
    "language_info": {
      "name": "python"
    }
  },
  "cells": [
    {
      "cell_type": "code",
      "execution_count": null,
      "metadata": {
        "id": "U_CrIWkO0ANK"
      },
      "outputs": [],
      "source": []
    },
    {
      "cell_type": "markdown",
      "source": [
        "##         Theory Questions & Answers\n",
        "#1. What are data structures, and why are they important?\n",
        "- Data structures are specialized for organizing, sorting, and managing data in a computer system, enabling efficient access and modification. They are fundamental to computer science & programming, providing a means to handle data effectively for various applications.\n",
        "Importance of data structure:\n",
        "1.   efficient Data Management.\n",
        "2.   Optimized Performance.\n",
        "3.   Problem-solving.\n",
        "4.   scalability.\n",
        "\n",
        "#2.   Explain the difference between mutable and immutable data types with examples.\n",
        "- mutable Data Types\n",
        "Mutable objects allow in place modification of their content without changing modification of their identity. common mutable data types include:\n",
        "* Lists: ordered collections that can be modified by adding, removing, or changing elements.\n",
        "Example:\n",
        "\n",
        "\n"
      ],
      "metadata": {
        "id": "U1XoUJtu0HeF"
      }
    },
    {
      "cell_type": "code",
      "source": [
        "fruits = ['apple', 'banana', 'orange']\n",
        "fruits[1] = 'mango'\n",
        "print(fruits)"
      ],
      "metadata": {
        "colab": {
          "base_uri": "https://localhost:8080/"
        },
        "id": "O2cPxRZD0Q3N",
        "outputId": "3cf9aab5-288a-47db-a63b-0573faa80ddd"
      },
      "execution_count": null,
      "outputs": [
        {
          "output_type": "stream",
          "name": "stdout",
          "text": [
            "['apple', 'mango', 'orange']\n"
          ]
        }
      ]
    },
    {
      "cell_type": "code",
      "source": [
        "fruits.append('cherry')\n",
        "print(fruits)"
      ],
      "metadata": {
        "colab": {
          "base_uri": "https://localhost:8080/"
        },
        "id": "PyWWOSee0SWt",
        "outputId": "05148287-47f0-4b69-e54b-566b34e6f94c"
      },
      "execution_count": null,
      "outputs": [
        {
          "output_type": "stream",
          "name": "stdout",
          "text": [
            "['apple', 'mango', 'orange', 'cherry']\n"
          ]
        }
      ]
    },
    {
      "cell_type": "markdown",
      "source": [
        "Dictionaries: Collections of key-value paris that can be updated or expanded.\n",
        "Example:"
      ],
      "metadata": {
        "id": "TQI52E2H2B4r"
      }
    },
    {
      "cell_type": "code",
      "source": [
        "\n",
        "person = {'name': 'John', 'age': 25}\n",
        "person['age'] = 26\n",
        "print(person)\n"
      ],
      "metadata": {
        "colab": {
          "base_uri": "https://localhost:8080/"
        },
        "id": "4jV0Dy280XAe",
        "outputId": "eb2b0ae6-ac57-4cd8-c265-3eb49a94b455"
      },
      "execution_count": null,
      "outputs": [
        {
          "output_type": "stream",
          "name": "stdout",
          "text": [
            "{'name': 'John', 'age': 26}\n"
          ]
        }
      ]
    },
    {
      "cell_type": "code",
      "source": [
        "person['city'] = 'New York'\n",
        "print(person)"
      ],
      "metadata": {
        "colab": {
          "base_uri": "https://localhost:8080/"
        },
        "id": "SFAlPD210l7j",
        "outputId": "65eba4a3-bbdb-4ab0-b62e-4875f8995d86"
      },
      "execution_count": null,
      "outputs": [
        {
          "output_type": "stream",
          "name": "stdout",
          "text": [
            "{'name': 'John', 'age': 26, 'city': 'New York'}\n"
          ]
        }
      ]
    },
    {
      "cell_type": "markdown",
      "source": [
        "Sets: Unordered collections of unique elements that can be modified by adding or removing items.\n",
        "Example:"
      ],
      "metadata": {
        "id": "9Y8IlQSW2PLi"
      }
    },
    {
      "cell_type": "code",
      "source": [
        "colors ={'red', 'green', 'blue'}\n",
        "colors.add('yellow')\n",
        "print(colors)"
      ],
      "metadata": {
        "colab": {
          "base_uri": "https://localhost:8080/"
        },
        "id": "5nCIDtzt0-0s",
        "outputId": "94200829-1c77-46da-a74c-a2dbfbb73b22"
      },
      "execution_count": null,
      "outputs": [
        {
          "output_type": "stream",
          "name": "stdout",
          "text": [
            "{'yellow', 'red', 'blue', 'green'}\n"
          ]
        }
      ]
    },
    {
      "cell_type": "code",
      "source": [
        "colors.remove('green')\n",
        "print(colors)"
      ],
      "metadata": {
        "colab": {
          "base_uri": "https://localhost:8080/"
        },
        "id": "ZdTaN0is1Y0d",
        "outputId": "d7489932-be7e-46a8-c33b-2d6d92b75032"
      },
      "execution_count": null,
      "outputs": [
        {
          "output_type": "stream",
          "name": "stdout",
          "text": [
            "{'yellow', 'red', 'blue'}\n"
          ]
        }
      ]
    },
    {
      "cell_type": "markdown",
      "source": [
        "* Immutable Data Types:It cannot be altered after creation;any modification results in the creation of a new object. common immutable data types include:\n",
        "*  Strings: Sequences of characters that cannot be changed in place. Example:\n"
      ],
      "metadata": {
        "id": "kwdypSCd1jpJ"
      }
    },
    {
      "cell_type": "code",
      "source": [
        "s = \"I am a student\"\n",
        "print(s)"
      ],
      "metadata": {
        "colab": {
          "base_uri": "https://localhost:8080/"
        },
        "id": "mQfXjX__1dTA",
        "outputId": "aaaebec3-6915-4bdd-e58c-acbed8de9800"
      },
      "execution_count": null,
      "outputs": [
        {
          "output_type": "stream",
          "name": "stdout",
          "text": [
            "I am a student\n"
          ]
        }
      ]
    },
    {
      "cell_type": "code",
      "source": [
        "s.replace(\"student\", \"teacher\")"
      ],
      "metadata": {
        "colab": {
          "base_uri": "https://localhost:8080/",
          "height": 36
        },
        "id": "ah4HKSAR2WSd",
        "outputId": "c9222b9d-d330-4776-bf94-296dc206f6f2"
      },
      "execution_count": null,
      "outputs": [
        {
          "output_type": "execute_result",
          "data": {
            "text/plain": [
              "'I am a teacher'"
            ],
            "application/vnd.google.colaboratory.intrinsic+json": {
              "type": "string"
            }
          },
          "metadata": {},
          "execution_count": 12
        }
      ]
    },
    {
      "cell_type": "markdown",
      "source": [
        "#3.  What are the main differences between lists and tuples in Python?\n",
        "- In python, both lists and tuples are used to store collections of items. However, they have distinct characteristics that make them sutiable for different scenarios.\n",
        "\n",
        "#4.  Describe how dictionaries store data?\n",
        "- In python, dictionaries are implemented using a data structure called a hash table, which allows for efficient storage and retrieval of key-value pairs.\n",
        "\n",
        " #5. Why might you use a set instead of a list in Python?\n",
        " - In python, choosing between a set and a list depends on the specific requirements of task. While both can store collections of items, they have distinct in certain scenarios.\n",
        "\n",
        " #6. What is a string in Python, and how is it different from a list?\n",
        " - String: Immutable; once created, their content cannot be altered. any modification results in the creation of a new string.\n",
        " - Lists: Mutable; elements can be modified, added, or removed in place.\n",
        "\n",
        " -\n",
        " #7. How do tuples ensure data integrity in Python?\n",
        " - Preventing Unintended Modifications:Science tuples cannot be changed after their creation,they safeguard data from accidental alterations.\n",
        " - Enhancing Code Predictability:\n",
        " The immutable nature of tuples means that their contents are consistent and reliable.\n",
        " - Facilitating Safe Data Sharing:\n",
        " In multi-theaded applications, tuples can be shared betweentheards without the risk of one thread altering the data and causing inconsistencies for others.\n",
        "\n",
        " #8. What is a hash table, and how does it relate to dictionaries in Python?\n",
        " - Hashing Keys:\n",
        " When a key-value pair is added to a dictionary, python computes a hash value for keys using hash function.\n",
        " - Handiling collisions:\n",
        " different keys can produce the same hash value, leading to acollisions.python's dictionaries handle collisions using open addressing, where the algorithm searches for next avaliable slot in the array to store the new key-value pair.\n",
        " - Dynamic Resizing:\n",
        " As more elements are added , the dictionary dynamically resizes to maintain efficient access times.\n",
        "\n",
        " #9.  Can lists contain different data types in Python?\n",
        " -In python, lists can contain elements of different data types.\n",
        "\n",
        " #10.  Explain why strings are immutable in Python?\n",
        " - In python, strings are immutable, meaning that once a string is created, its content cannot be changed.\n",
        "\n",
        " #11.  What advantages do dictionaries offer over lists for certain tasks?\n",
        " - Both lists and dictionaries are fundamental data structures, each offering unique advantages tailored to specific tasks.\n",
        "\n",
        " #12. Describe a scenario where using a tuple would be preferable over a list.\n",
        " -\n",
        "\n",
        " Example:\n",
        " consider the need to store information about a book, such as title, author, and publication year. using a tuple."
      ],
      "metadata": {
        "id": "btcdixB02e9S"
      }
    },
    {
      "cell_type": "code",
      "source": [
        "book_info = (\"To kill a mockingbird\", \"Darshan\", 2021)\n",
        "book_info[0] = \"Harry Potter\""
      ],
      "metadata": {
        "colab": {
          "base_uri": "https://localhost:8080/",
          "height": 164
        },
        "id": "91oPGkCn2Ye8",
        "outputId": "8fb40f42-7fe7-420a-c01d-6a229d326030"
      },
      "execution_count": null,
      "outputs": [
        {
          "output_type": "error",
          "ename": "TypeError",
          "evalue": "'tuple' object does not support item assignment",
          "traceback": [
            "\u001b[0;31m---------------------------------------------------------------------------\u001b[0m",
            "\u001b[0;31mTypeError\u001b[0m                                 Traceback (most recent call last)",
            "\u001b[0;32m<ipython-input-13-c7cab7cdea66>\u001b[0m in \u001b[0;36m<cell line: 0>\u001b[0;34m()\u001b[0m\n\u001b[1;32m      1\u001b[0m \u001b[0mbook_info\u001b[0m \u001b[0;34m=\u001b[0m \u001b[0;34m(\u001b[0m\u001b[0;34m\"To kill a mockingbird\"\u001b[0m\u001b[0;34m,\u001b[0m \u001b[0;34m\"Darshan\"\u001b[0m\u001b[0;34m,\u001b[0m \u001b[0;36m2021\u001b[0m\u001b[0;34m)\u001b[0m\u001b[0;34m\u001b[0m\u001b[0;34m\u001b[0m\u001b[0m\n\u001b[0;32m----> 2\u001b[0;31m \u001b[0mbook_info\u001b[0m\u001b[0;34m[\u001b[0m\u001b[0;36m0\u001b[0m\u001b[0;34m]\u001b[0m \u001b[0;34m=\u001b[0m \u001b[0;34m\"Harry Potter\"\u001b[0m\u001b[0;34m\u001b[0m\u001b[0;34m\u001b[0m\u001b[0m\n\u001b[0m",
            "\u001b[0;31mTypeError\u001b[0m: 'tuple' object does not support item assignment"
          ]
        }
      ]
    },
    {
      "cell_type": "code",
      "source": [],
      "metadata": {
        "id": "iRcwZuxY2ub5"
      },
      "execution_count": null,
      "outputs": []
    },
    {
      "cell_type": "markdown",
      "source": [
        "such modifications lead to inconsistencies, especially if the data is intended to remain constant.employing a tuple to store related, unchanged data ensures data integrity, clarity, and optimal performance, making it a perferable choice over using a list.\n",
        "\n",
        "\n",
        "#13. How do sets handle duplicate values in Python?\n",
        "- sets are collections that automatically handle duplicate values by eliminating them.when you attempt to add an element to a set remains unchanged, ensuring all elements are unique.\n",
        "\n",
        "#14.How does the “in” keyword work differently for lists and dictionaries?\n",
        "- key Differences:\n",
        ". Lists:\n",
        ". in checks for the presence of the element as a whole.\n",
        ". Dictionaries:\n",
        ". in checks for the presence of a key.\n",
        "\n",
        "#15.Can you modify the elements of a tuple? Explain why or why not\n",
        " - If you try to change an element of a tuple directly, python will raise a typeerror. tuples are data structure where you dont want to modify the data.\n",
        " tubles are immutable.\n",
        "\n",
        " #16.  What is a nested dictionary, and give an example of its use case?\n",
        " - A nested dictionary in python is a dictionary where each key maps to another dictionary, allowing you to represent hierarchical or multi-level data.\n",
        " example:"
      ],
      "metadata": {
        "id": "xT4LW6U720NT"
      }
    },
    {
      "cell_type": "code",
      "source": [
        "students = {\n",
        "    'student1': {'name': 'arjun', 'age': 20, 'courses':['math', 'science']},\n",
        "    'student2': {'name': 'ajay', 'age': 21, ' courses':['history', 'arts']},\n",
        "    'student3': {'name': 'sanjay', 'age': 24, 'courses':['physics', 'chemistry']}\n",
        "\n",
        "}"
      ],
      "metadata": {
        "id": "SEECcr_j22hG"
      },
      "execution_count": null,
      "outputs": []
    },
    {
      "cell_type": "code",
      "source": [
        "ajay_age = students['student2']['age']\n",
        "print(f\"ajay's age: {ajay_age}\")"
      ],
      "metadata": {
        "colab": {
          "base_uri": "https://localhost:8080/"
        },
        "id": "Zs8DyaqP26hi",
        "outputId": "0ab537f8-c793-4717-b3d9-cb4d930feb8a"
      },
      "execution_count": null,
      "outputs": [
        {
          "output_type": "stream",
          "name": "stdout",
          "text": [
            "ajay's age: 21\n"
          ]
        }
      ]
    },
    {
      "cell_type": "code",
      "source": [
        "sanjay_courses = students['student3']['courses']\n",
        "print(f\"sanjay's courses: {','.join(sanjay_courses)}\")"
      ],
      "metadata": {
        "colab": {
          "base_uri": "https://localhost:8080/"
        },
        "id": "I03BtXb73Cqw",
        "outputId": "ce274202-2f7f-4149-e6b5-15f3f578b8d2"
      },
      "execution_count": null,
      "outputs": [
        {
          "output_type": "stream",
          "name": "stdout",
          "text": [
            "sanjay's courses: physics,chemistry\n"
          ]
        }
      ]
    },
    {
      "cell_type": "code",
      "source": [],
      "metadata": {
        "id": "mgVyDuCJ3FyU"
      },
      "execution_count": null,
      "outputs": []
    },
    {
      "cell_type": "markdown",
      "source": [
        "#17. Describe the time complexity of accessing elements in a dictionary?\n",
        "- dictionaries are implimented using hash tables, which allow for efficient data retrieval. The average time complexity for accessing an element in a dictionary is O(1), meaning that the time taken to access a value does not depend on the size of the dictionary.\n",
        "\n",
        "#18.In what situations are lists preferred over dictionaries?\n",
        "- choosing lists and dictionaries depends on the specific requirements of your data and the operations you need to perform.\n",
        ". Maintaining Ordered Collections\n",
        ". Sequential Data Processing\n",
        ". Allowing Duplicate Elements\n",
        ". Index-Based Access and Slicing\n",
        ". Memory Efficiency with Small Datasets\n",
        ". Simple Collections Without key-Value Association\n",
        "in summary, lists are preferred over dictionaries when you need to maintain order, handel sequential data, allow duplicates,access elements by position, manage small datasets efficiently, or when your data doesn't necessitate key-value associations. choosing the appropriate data structure based on these considerations ensures optimal performance and code clarity.\n",
        "\n",
        "#19.  Why are dictionaries considered unordered, and how does that affect data retrieval?\n",
        "- Dictionaries are implemented hash tables,which inherently do not maintain any specific order of their elements. this means that when you iterate over a dictionary,the items may appear in an arbitrary sequence, not necessarily in the order they were added. the primary reason for this unordered nature is to ensure optimal performance for key-based data retrieval.\n",
        "impact on data retrieval:\n",
        "1. Efficient key based access:Theunordered structure allows dictionaries to provide average-case O(1) time complexity for lookups, insertions, and deletions,making them highly efficient for accessing values based on their keys.\n",
        ". Iteration order:\n",
        "this means that when you iterate over a dictionary in python 3.7 and later, items will appear in the order they were added.\n",
        "\n",
        "#20. Explain the difference between a list and a dictionary in terms of data retrieval.\n",
        "- data retrival(lists):\n",
        "accessing an element by its, index is efficient, with a time complexity of O(1). however, searching for an element by value requires scanning the list, resulting in a time complexity of O(n), where n is the number of elements.\n",
        "- data retrieval(dictionaries):\n",
        "retrieving a value by its key is highly efficient, typically with a time complexity of O(1), due underlying hash table implementation. This allows for quick looksups regardless of the dictionary's size.\n",
        "-"
      ],
      "metadata": {
        "id": "sXI_RY_B3It8"
      }
    },
    {
      "cell_type": "markdown",
      "source": [
        "Practical Questions:"
      ],
      "metadata": {
        "id": "RVFeaN-M3WjD"
      }
    },
    {
      "cell_type": "code",
      "source": [
        "#1. Write a code to create a string with your name and print it\n",
        "name = \"Ajay\"\n",
        "print(name)\n"
      ],
      "metadata": {
        "colab": {
          "base_uri": "https://localhost:8080/"
        },
        "id": "LN2sWfg23a9K",
        "outputId": "565b27e6-a927-4594-987b-b27a427d717e"
      },
      "execution_count": null,
      "outputs": [
        {
          "output_type": "stream",
          "name": "stdout",
          "text": [
            "Ajay\n"
          ]
        }
      ]
    },
    {
      "cell_type": "code",
      "source": [
        "#2. Write a code to find the length of the string \"Hello World\"\n",
        "string = \"Hello World\"\n",
        "len(string)"
      ],
      "metadata": {
        "colab": {
          "base_uri": "https://localhost:8080/"
        },
        "id": "EBL-h6sA3mTr",
        "outputId": "e2e6425f-829d-44e7-a1cc-143bac390210"
      },
      "execution_count": null,
      "outputs": [
        {
          "output_type": "execute_result",
          "data": {
            "text/plain": [
              "11"
            ]
          },
          "metadata": {},
          "execution_count": 19
        }
      ]
    },
    {
      "cell_type": "code",
      "source": [
        "#3. Write a code to slice the first 3 characters from the string \"Python Programming\n",
        "string = \"Python Programming\"\n",
        "string[0:3]"
      ],
      "metadata": {
        "colab": {
          "base_uri": "https://localhost:8080/",
          "height": 36
        },
        "id": "F9T_T41e3qHr",
        "outputId": "b801b8a2-a679-4e77-ac75-305d61e05821"
      },
      "execution_count": null,
      "outputs": [
        {
          "output_type": "execute_result",
          "data": {
            "text/plain": [
              "'Pyt'"
            ],
            "application/vnd.google.colaboratory.intrinsic+json": {
              "type": "string"
            }
          },
          "metadata": {},
          "execution_count": 20
        }
      ]
    },
    {
      "cell_type": "code",
      "source": [
        "#4. Write a code to convert the string \"hello\" to uppercase\n",
        "string = \"hello\"\n",
        "string.upper()"
      ],
      "metadata": {
        "colab": {
          "base_uri": "https://localhost:8080/",
          "height": 36
        },
        "id": "52zl1XqE3tah",
        "outputId": "56412b0d-a6fc-47a8-bd69-3987c0138ba1"
      },
      "execution_count": null,
      "outputs": [
        {
          "output_type": "execute_result",
          "data": {
            "text/plain": [
              "'HELLO'"
            ],
            "application/vnd.google.colaboratory.intrinsic+json": {
              "type": "string"
            }
          },
          "metadata": {},
          "execution_count": 21
        }
      ]
    },
    {
      "cell_type": "code",
      "source": [
        "#5. Write a code to replace the word \"apple\" with \"orange\" in the string \"I like apple\"\n",
        "string = \"I like apple\"\n",
        "string.replace(\"apple\",\"orange\")"
      ],
      "metadata": {
        "colab": {
          "base_uri": "https://localhost:8080/",
          "height": 36
        },
        "id": "VvB-TXO63z5H",
        "outputId": "63048d28-101b-46bd-a455-7c2055b80210"
      },
      "execution_count": null,
      "outputs": [
        {
          "output_type": "execute_result",
          "data": {
            "text/plain": [
              "'I like orange'"
            ],
            "application/vnd.google.colaboratory.intrinsic+json": {
              "type": "string"
            }
          },
          "metadata": {},
          "execution_count": 22
        }
      ]
    },
    {
      "cell_type": "code",
      "source": [
        "#6. Write a code to create a list with numbers 1 to 5 and print it\n",
        "list = [1, 2, 3, 4, 5]\n",
        "print(list)"
      ],
      "metadata": {
        "colab": {
          "base_uri": "https://localhost:8080/"
        },
        "id": "jUKV88d232xY",
        "outputId": "484301a2-91e0-4609-8892-4519bb5d4825"
      },
      "execution_count": null,
      "outputs": [
        {
          "output_type": "stream",
          "name": "stdout",
          "text": [
            "[1, 2, 3, 4, 5]\n"
          ]
        }
      ]
    },
    {
      "cell_type": "code",
      "source": [
        "#7. Write a code to append the number 10 to the list [1, 2, 3, 4]\n",
        "list = [1, 2, 3, 4]\n",
        "list.append(10)\n",
        "print(list)"
      ],
      "metadata": {
        "colab": {
          "base_uri": "https://localhost:8080/"
        },
        "id": "yTpVNvuO373V",
        "outputId": "b51d62b4-9c6d-43a7-937b-e96fb95c3b51"
      },
      "execution_count": null,
      "outputs": [
        {
          "output_type": "stream",
          "name": "stdout",
          "text": [
            "[1, 2, 3, 4, 10]\n"
          ]
        }
      ]
    },
    {
      "cell_type": "code",
      "source": [
        "#8.  Write a code to remove the number 3 from the list [1, 2, 3, 4, 5]\n",
        "list = [1, 2, 3, 4, 5]\n",
        "list.remove(3)\n",
        "print(list)"
      ],
      "metadata": {
        "colab": {
          "base_uri": "https://localhost:8080/"
        },
        "id": "hdTnKdXI4esU",
        "outputId": "b765ab9d-d058-4809-c2ee-ef1ac9c66db2"
      },
      "execution_count": null,
      "outputs": [
        {
          "output_type": "stream",
          "name": "stdout",
          "text": [
            "[1, 2, 4, 5]\n"
          ]
        }
      ]
    },
    {
      "cell_type": "code",
      "source": [
        "#9. Write a code to access the second element in the list ['a', 'b', 'c', 'd']\n",
        "list = ['a', 'b', 'c', 'd']\n",
        "list[1]\n",
        "\n"
      ],
      "metadata": {
        "colab": {
          "base_uri": "https://localhost:8080/",
          "height": 36
        },
        "id": "mem4CS3P4kLW",
        "outputId": "4c48c57c-2814-4c2f-8f9d-f6129aa09408"
      },
      "execution_count": null,
      "outputs": [
        {
          "output_type": "execute_result",
          "data": {
            "text/plain": [
              "'b'"
            ],
            "application/vnd.google.colaboratory.intrinsic+json": {
              "type": "string"
            }
          },
          "metadata": {},
          "execution_count": 26
        }
      ]
    },
    {
      "cell_type": "code",
      "source": [
        "#10. Write a code to reverse the list [10, 20, 30, 40, 50]\n",
        "list = [10, 20, 30, 40, 50]\n",
        "list.reverse()\n",
        "print(list)\n"
      ],
      "metadata": {
        "colab": {
          "base_uri": "https://localhost:8080/"
        },
        "id": "TErEdW8D4oWh",
        "outputId": "fd31d42b-3c3c-4c7d-988b-a6f1539bbea1"
      },
      "execution_count": null,
      "outputs": [
        {
          "output_type": "stream",
          "name": "stdout",
          "text": [
            "[50, 40, 30, 20, 10]\n"
          ]
        }
      ]
    },
    {
      "cell_type": "code",
      "source": [
        "#11.  Write a code to create a tuple with the elements 100, 200, 300 and print it.\n",
        "t = (100, 200, 300)\n",
        "print(t)"
      ],
      "metadata": {
        "colab": {
          "base_uri": "https://localhost:8080/"
        },
        "id": "3laJBs_04uNV",
        "outputId": "b13f84ad-2be0-4b1b-e7f6-49f29382afae"
      },
      "execution_count": null,
      "outputs": [
        {
          "output_type": "stream",
          "name": "stdout",
          "text": [
            "(100, 200, 300)\n"
          ]
        }
      ]
    },
    {
      "cell_type": "code",
      "source": [
        "#12. Write a code to access the second-to-last element of the tuple ('red', 'green', 'blue', 'yellow').\n",
        "tuple1 = (\"red\", \"green\", \"blue\", \"yellow\")\n",
        "tuple1[1:]\n"
      ],
      "metadata": {
        "colab": {
          "base_uri": "https://localhost:8080/"
        },
        "id": "audumMG14zO-",
        "outputId": "db114c0a-1fde-4d91-a75a-b1c9bedb8d1c"
      },
      "execution_count": null,
      "outputs": [
        {
          "output_type": "execute_result",
          "data": {
            "text/plain": [
              "('green', 'blue', 'yellow')"
            ]
          },
          "metadata": {},
          "execution_count": 29
        }
      ]
    },
    {
      "cell_type": "code",
      "source": [
        "#13. Write a code to find the minimum number in the tuple (10, 20, 5, 15)\n",
        "t1 = (10, 20, 5, 15)\n",
        "min(t1)"
      ],
      "metadata": {
        "colab": {
          "base_uri": "https://localhost:8080/"
        },
        "id": "4QNskIJ64264",
        "outputId": "46bf80c1-b620-4294-8b53-2baef69c87cf"
      },
      "execution_count": null,
      "outputs": [
        {
          "output_type": "execute_result",
          "data": {
            "text/plain": [
              "5"
            ]
          },
          "metadata": {},
          "execution_count": 30
        }
      ]
    },
    {
      "cell_type": "code",
      "source": [
        "#14. Write a code to find the index of the element \"cat\" in the tuple ('dog', 'cat', 'rabbit').\n",
        "tuple = (\"dog\", \"cat\", \"rabbit\")\n",
        "tuple.index(\"cat\")"
      ],
      "metadata": {
        "colab": {
          "base_uri": "https://localhost:8080/"
        },
        "id": "6TAAS5qi5AkY",
        "outputId": "048aee3f-0a2f-4d14-e78e-5e3385df810f"
      },
      "execution_count": null,
      "outputs": [
        {
          "output_type": "execute_result",
          "data": {
            "text/plain": [
              "1"
            ]
          },
          "metadata": {},
          "execution_count": 31
        }
      ]
    },
    {
      "cell_type": "code",
      "source": [
        "#15. Write a code to create a tuple containing three different fruits and check if \"kiwi\" is in it.\n",
        "tuple2 = (\"Apple\", \"Orange\", \"Kiwi\", 1, 2.3, True, 3+5j)\n",
        "\"Kiwi\" in tuple2\n"
      ],
      "metadata": {
        "colab": {
          "base_uri": "https://localhost:8080/"
        },
        "id": "yIt_S0Ut5Fxn",
        "outputId": "4c34d287-bc31-42ce-fe2f-b453669bc90e"
      },
      "execution_count": null,
      "outputs": [
        {
          "output_type": "execute_result",
          "data": {
            "text/plain": [
              "True"
            ]
          },
          "metadata": {},
          "execution_count": 33
        }
      ]
    },
    {
      "cell_type": "code",
      "source": [
        "#16. Write a code to create a set with the elements 'a', 'b', 'c' and print it.\n",
        "set1 = {'a', 'b', 'c'}\n",
        "type(set1)"
      ],
      "metadata": {
        "colab": {
          "base_uri": "https://localhost:8080/"
        },
        "id": "Dy7rVlvJ5Ovh",
        "outputId": "abf3d4d9-b8f5-4b48-f312-9c3602fb66fa"
      },
      "execution_count": null,
      "outputs": [
        {
          "output_type": "execute_result",
          "data": {
            "text/plain": [
              "set"
            ]
          },
          "metadata": {},
          "execution_count": 34
        }
      ]
    },
    {
      "cell_type": "code",
      "source": [
        "set1"
      ],
      "metadata": {
        "colab": {
          "base_uri": "https://localhost:8080/"
        },
        "id": "ecRu40_w5T0z",
        "outputId": "deaebab3-ae92-46a6-b168-1fd9dd90e1b1"
      },
      "execution_count": null,
      "outputs": [
        {
          "output_type": "execute_result",
          "data": {
            "text/plain": [
              "{'a', 'b', 'c'}"
            ]
          },
          "metadata": {},
          "execution_count": 35
        }
      ]
    },
    {
      "cell_type": "code",
      "source": [
        "#17. Write a code to clear all elements from the set {1, 2, 3, 4, 5}.\n",
        "s1 = {1, 2, 3, 4, 5}\n",
        "s1.clear()\n",
        "s1"
      ],
      "metadata": {
        "colab": {
          "base_uri": "https://localhost:8080/"
        },
        "id": "9kNwkfna5XwI",
        "outputId": "4318f620-2147-4f23-931f-3f0bafe2b759"
      },
      "execution_count": null,
      "outputs": [
        {
          "output_type": "execute_result",
          "data": {
            "text/plain": [
              "set()"
            ]
          },
          "metadata": {},
          "execution_count": 36
        }
      ]
    },
    {
      "cell_type": "code",
      "source": [
        "#18. Write a code to remove the element 4 from the set {1, 2, 3, 4}\n",
        "set = {1, 2, 3, 4}\n",
        "set.remove(4)\n",
        "set"
      ],
      "metadata": {
        "colab": {
          "base_uri": "https://localhost:8080/"
        },
        "id": "0avHZdBd5dGL",
        "outputId": "9206a0b8-f5e2-4725-9857-40b47deea452"
      },
      "execution_count": null,
      "outputs": [
        {
          "output_type": "execute_result",
          "data": {
            "text/plain": [
              "{1, 2, 3}"
            ]
          },
          "metadata": {},
          "execution_count": 37
        }
      ]
    },
    {
      "cell_type": "code",
      "source": [
        "#19. Write a code to find the union of two sets {1, 2, 3} and {3, 4, 5}.\n",
        "s1 = {1, 2, 3}\n",
        "s2 = {3, 4, 5}\n",
        "s1 | s2\n"
      ],
      "metadata": {
        "colab": {
          "base_uri": "https://localhost:8080/"
        },
        "id": "d4vKhAR45fyA",
        "outputId": "0038e4bb-b398-4618-dd77-a0bb705f5b21"
      },
      "execution_count": null,
      "outputs": [
        {
          "output_type": "execute_result",
          "data": {
            "text/plain": [
              "{1, 2, 3, 4, 5}"
            ]
          },
          "metadata": {},
          "execution_count": 38
        }
      ]
    },
    {
      "cell_type": "code",
      "source": [
        "#20. Write a code to find the intersection of two sets {1, 2, 3} and {2, 3, 4}.\n",
        "s1 = {1, 2, 3}\n",
        "s2 = {2, 3, 4}\n",
        "s1 & s2"
      ],
      "metadata": {
        "colab": {
          "base_uri": "https://localhost:8080/"
        },
        "id": "Lln40X_F5mY5",
        "outputId": "4d5753a4-732f-44eb-880a-7f0bbbd87e64"
      },
      "execution_count": null,
      "outputs": [
        {
          "output_type": "execute_result",
          "data": {
            "text/plain": [
              "{2, 3}"
            ]
          },
          "metadata": {},
          "execution_count": 39
        }
      ]
    },
    {
      "cell_type": "code",
      "source": [
        "#21. Write a code to create a dictionary with the keys \"name\", \"age\", and \"city\", and print it.\n",
        "d = {\"name\": \"VIjay\", \"Age\": 25, \"city\": \"Bangalore\"}\n",
        "d"
      ],
      "metadata": {
        "colab": {
          "base_uri": "https://localhost:8080/"
        },
        "id": "KO_v03aJ5tCf",
        "outputId": "99094801-088b-41bb-d219-d7092f7af644"
      },
      "execution_count": null,
      "outputs": [
        {
          "output_type": "execute_result",
          "data": {
            "text/plain": [
              "{'name': 'VIjay', 'Age': 25, 'city': 'Bangalore'}"
            ]
          },
          "metadata": {},
          "execution_count": 40
        }
      ]
    },
    {
      "cell_type": "code",
      "source": [
        "#22. Write a code to add a new key-value pair \"country\": \"USA\" to the dictionary {'name': 'John', 'age': 25}.\n",
        "d = {\"Name\": \"John\", \"age\": 25}\n",
        "d[\"country\"] = \"usa\"\n",
        "d"
      ],
      "metadata": {
        "colab": {
          "base_uri": "https://localhost:8080/"
        },
        "id": "lV8GPxFt5xRV",
        "outputId": "a557ee9f-e620-42f5-a898-f3bec83d426b"
      },
      "execution_count": null,
      "outputs": [
        {
          "output_type": "execute_result",
          "data": {
            "text/plain": [
              "{'Name': 'John', 'age': 25, 'country': 'usa'}"
            ]
          },
          "metadata": {},
          "execution_count": 41
        }
      ]
    },
    {
      "cell_type": "code",
      "source": [
        "#23. Write a code to access the value associated with the key \"name\" in the dictionary {'name': 'Alice', 'age': 30}.\n",
        "d = {\"name\": 'Alice', \"age\": 30}\n",
        "d[\"name\"]"
      ],
      "metadata": {
        "colab": {
          "base_uri": "https://localhost:8080/",
          "height": 36
        },
        "id": "_rhu4pWE52mn",
        "outputId": "b92a1066-b903-45c1-c953-d44d1495482d"
      },
      "execution_count": null,
      "outputs": [
        {
          "output_type": "execute_result",
          "data": {
            "text/plain": [
              "'Alice'"
            ],
            "application/vnd.google.colaboratory.intrinsic+json": {
              "type": "string"
            }
          },
          "metadata": {},
          "execution_count": 42
        }
      ]
    },
    {
      "cell_type": "code",
      "source": [
        "d = {\"key\":1}\n",
        "d[\"key\"]"
      ],
      "metadata": {
        "colab": {
          "base_uri": "https://localhost:8080/"
        },
        "id": "ND28xAOB6D-4",
        "outputId": "aadf2eaa-c955-46ea-ddea-b7ff23253fd7"
      },
      "execution_count": null,
      "outputs": [
        {
          "output_type": "execute_result",
          "data": {
            "text/plain": [
              "1"
            ]
          },
          "metadata": {},
          "execution_count": 43
        }
      ]
    },
    {
      "cell_type": "code",
      "source": [
        "#24. Write a code to remove the key \"age\" from the dictionary {'name': 'Bob', 'age': 22, 'city': 'New York'}.\n",
        "d = {\"name\": \"Bob\", \"age\": 22, \"city\": \"New york\"}\n",
        "del d [\"age\"]\n",
        "d"
      ],
      "metadata": {
        "colab": {
          "base_uri": "https://localhost:8080/"
        },
        "id": "ocoxQnAq6Iff",
        "outputId": "0ad6b5d9-5457-44e6-ac34-7f2d541618f5"
      },
      "execution_count": null,
      "outputs": [
        {
          "output_type": "execute_result",
          "data": {
            "text/plain": [
              "{'name': 'Bob', 'city': 'New york'}"
            ]
          },
          "metadata": {},
          "execution_count": 44
        }
      ]
    },
    {
      "cell_type": "code",
      "source": [
        "#25. Write a code to check if the key \"city\" exists in the dictionary {'name': 'Alice', 'city': 'Paris'}\n",
        "d = {\"name\": \"Alice\", \"city\": \"Paris\"}\n",
        "d[\"city\"]"
      ],
      "metadata": {
        "colab": {
          "base_uri": "https://localhost:8080/",
          "height": 36
        },
        "id": "LgR14vWg6Mw-",
        "outputId": "21add5fd-73bc-4395-da54-045d4d72c370"
      },
      "execution_count": null,
      "outputs": [
        {
          "output_type": "execute_result",
          "data": {
            "text/plain": [
              "'Paris'"
            ],
            "application/vnd.google.colaboratory.intrinsic+json": {
              "type": "string"
            }
          },
          "metadata": {},
          "execution_count": 45
        }
      ]
    },
    {
      "cell_type": "code",
      "source": [
        "#26. Write a code to create a list, a tuple, and a dictionary, and print them all.\n",
        "t1 = (\"pwskills\", \"sham\", 2, 2.3, True, 3+5j)\n",
        "type(t1)"
      ],
      "metadata": {
        "colab": {
          "base_uri": "https://localhost:8080/"
        },
        "id": "QfGJH7qf6R_R",
        "outputId": "b2aedf76-ba72-4863-e545-e0b31dfb9787"
      },
      "execution_count": null,
      "outputs": [
        {
          "output_type": "execute_result",
          "data": {
            "text/plain": [
              "tuple"
            ]
          },
          "metadata": {},
          "execution_count": 46
        }
      ]
    },
    {
      "cell_type": "code",
      "source": [
        "t1"
      ],
      "metadata": {
        "colab": {
          "base_uri": "https://localhost:8080/"
        },
        "id": "7F_SfpIk6U7v",
        "outputId": "fb4d584a-9394-443c-92f3-b8214eb9f870"
      },
      "execution_count": null,
      "outputs": [
        {
          "output_type": "execute_result",
          "data": {
            "text/plain": [
              "('pwskills', 'sham', 2, 2.3, True, (3+5j))"
            ]
          },
          "metadata": {},
          "execution_count": 47
        }
      ]
    },
    {
      "cell_type": "code",
      "source": [
        "grocery_list = [\"Apple\", \"Milk\", 1, 2.2, True, 3+5j]\n",
        "type(grocery_list)"
      ],
      "metadata": {
        "colab": {
          "base_uri": "https://localhost:8080/"
        },
        "id": "LnDW-gq56XSz",
        "outputId": "42a3f7d0-bd23-40c3-dd5b-659e6dc76248"
      },
      "execution_count": null,
      "outputs": [
        {
          "output_type": "execute_result",
          "data": {
            "text/plain": [
              "list"
            ]
          },
          "metadata": {},
          "execution_count": 48
        }
      ]
    },
    {
      "cell_type": "code",
      "source": [
        "grocery_list"
      ],
      "metadata": {
        "colab": {
          "base_uri": "https://localhost:8080/"
        },
        "id": "TJtaDeSw6dhI",
        "outputId": "68ed6e0f-cdf8-43a0-87d4-a237033d1827"
      },
      "execution_count": null,
      "outputs": [
        {
          "output_type": "execute_result",
          "data": {
            "text/plain": [
              "['Apple', 'Milk', 1, 2.2, True, (3+5j)]"
            ]
          },
          "metadata": {},
          "execution_count": 49
        }
      ]
    },
    {
      "cell_type": "code",
      "source": [
        "d = {\"name\": \"Ajay\", \"email\": \"aj@gmail.com\", \"contact\": 12345}\n",
        "type(d)"
      ],
      "metadata": {
        "colab": {
          "base_uri": "https://localhost:8080/"
        },
        "id": "wMAIUfgo6gTE",
        "outputId": "dba0b941-f714-4511-9572-82952ba2d077"
      },
      "execution_count": null,
      "outputs": [
        {
          "output_type": "execute_result",
          "data": {
            "text/plain": [
              "dict"
            ]
          },
          "metadata": {},
          "execution_count": 50
        }
      ]
    },
    {
      "cell_type": "code",
      "source": [
        "d"
      ],
      "metadata": {
        "colab": {
          "base_uri": "https://localhost:8080/"
        },
        "id": "sY8kHtRf6j4v",
        "outputId": "9f976f68-ff8d-47a8-e0ff-2aa2062f152a"
      },
      "execution_count": null,
      "outputs": [
        {
          "output_type": "execute_result",
          "data": {
            "text/plain": [
              "{'name': 'Ajay', 'email': 'aj@gmail.com', 'contact': 12345}"
            ]
          },
          "metadata": {},
          "execution_count": 51
        }
      ]
    },
    {
      "cell_type": "code",
      "source": [
        "#27. Write a code to create a list of 5 random numbers between 1 and 100, sort it in ascending order, and print the\n",
        " # result.(replaced)\n",
        "\n",
        "\n",
        "list1 = [10, 20, 90, 60, 40]\n",
        "list1.sort()\n",
        "print(list1)"
      ],
      "metadata": {
        "colab": {
          "base_uri": "https://localhost:8080/"
        },
        "id": "pl7HABrb6khZ",
        "outputId": "9a113662-9350-4a05-ebbd-1845ebe0f396"
      },
      "execution_count": null,
      "outputs": [
        {
          "output_type": "stream",
          "name": "stdout",
          "text": [
            "[10, 20, 40, 60, 90]\n"
          ]
        }
      ]
    },
    {
      "cell_type": "code",
      "source": [
        "index = list1.index(40)\n",
        "list1[index] = 70\n",
        "print(list1)"
      ],
      "metadata": {
        "colab": {
          "base_uri": "https://localhost:8080/"
        },
        "id": "NLe94QPI6puk",
        "outputId": "4bbd21dd-6bc1-402a-fd8d-264bff7fa10a"
      },
      "execution_count": null,
      "outputs": [
        {
          "output_type": "stream",
          "name": "stdout",
          "text": [
            "[10, 20, 70, 60, 90]\n"
          ]
        }
      ]
    },
    {
      "cell_type": "code",
      "source": [
        "list1.sort()\n",
        "print(list1)"
      ],
      "metadata": {
        "colab": {
          "base_uri": "https://localhost:8080/"
        },
        "id": "inq_ptWD6s5L",
        "outputId": "973a46a5-a0d4-41b4-f7eb-e2a88b7b2892"
      },
      "execution_count": null,
      "outputs": [
        {
          "output_type": "stream",
          "name": "stdout",
          "text": [
            "[10, 20, 60, 70, 90]\n"
          ]
        }
      ]
    },
    {
      "cell_type": "code",
      "source": [
        "#28. Write a code to create a list with strings and print the element at the third index.\n",
        "fruits = [\"apple\", \"banana\", \"cherry\", \"orange\", \"strawberry\"]\n",
        "fruits[3]\n"
      ],
      "metadata": {
        "colab": {
          "base_uri": "https://localhost:8080/",
          "height": 36
        },
        "id": "x0h8WE_y6xh4",
        "outputId": "e2e05571-3f47-4620-cf50-fcec8c048839"
      },
      "execution_count": null,
      "outputs": [
        {
          "output_type": "execute_result",
          "data": {
            "text/plain": [
              "'orange'"
            ],
            "application/vnd.google.colaboratory.intrinsic+json": {
              "type": "string"
            }
          },
          "metadata": {},
          "execution_count": 55
        }
      ]
    },
    {
      "cell_type": "code",
      "source": [
        "#29. Write a code to combine two dictionaries into one and print the result.\n",
        "library = {\n",
        "    \"book1\": {\n",
        "        \"title\": \"Python Programming\",\n",
        "        \"author\": \"Darshan\",\n",
        "        \"year\": 2021\n",
        "    },\n",
        "    \"book2\": {\n",
        "        \"title\": \"Java Programming\",\n",
        "        \"author\": \"Alice\",\n",
        "        \"year\": 2020\n",
        "    }\n",
        "}\n",
        "print(library)"
      ],
      "metadata": {
        "colab": {
          "base_uri": "https://localhost:8080/"
        },
        "id": "D0RAWXpT63aG",
        "outputId": "614da8df-edb3-46e1-d4a4-9310548b0d6f"
      },
      "execution_count": null,
      "outputs": [
        {
          "output_type": "stream",
          "name": "stdout",
          "text": [
            "{'book1': {'title': 'Python Programming', 'author': 'Darshan', 'year': 2021}, 'book2': {'title': 'Java Programming', 'author': 'Alice', 'year': 2020}}\n"
          ]
        }
      ]
    },
    {
      "cell_type": "code",
      "source": [
        "#30. Write a code to convert a list of strings into a set.\n",
        "string_list = [\"apple\", \"banana\", \"cherry\", \"apple\"]\n",
        "string_set = set(string_list)\n",
        "print(string_set)"
      ],
      "metadata": {
        "id": "0R_pUq2JEjba",
        "colab": {
          "base_uri": "https://localhost:8080/"
        },
        "outputId": "abc83a17-26e8-4fd8-ea8b-bbffa5454aee"
      },
      "execution_count": 1,
      "outputs": [
        {
          "output_type": "stream",
          "name": "stdout",
          "text": [
            "{'apple', 'cherry', 'banana'}\n"
          ]
        }
      ]
    },
    {
      "cell_type": "code",
      "source": [],
      "metadata": {
        "id": "9PSFx0gLEXYx"
      },
      "execution_count": null,
      "outputs": []
    }
  ]
}